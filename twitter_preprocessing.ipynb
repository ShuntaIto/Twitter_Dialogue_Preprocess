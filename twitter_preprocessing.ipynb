{
 "cells": [
  {
   "cell_type": "markdown",
   "metadata": {},
   "source": [
    "## script"
   ]
  },
  {
   "cell_type": "code",
   "execution_count": null,
   "metadata": {},
   "outputs": [],
   "source": [
    "import re\n",
    "import emoji\n",
    "import pickle"
   ]
  },
  {
   "cell_type": "code",
   "execution_count": null,
   "metadata": {},
   "outputs": [],
   "source": [
    "def delete_self_reply_pairs(twitter_data):\n",
    "    dialogue_tweets = []\n",
    "    for i in range(1,len(twitter_data),2):\n",
    "        if re.match('@',twitter_data[i])!=None:\n",
    "            dialogue_tweets.append(twitter_data[i-1])\n",
    "            dialogue_tweets.append(twitter_data[i])\n",
    "    return dialogue_tweets\n",
    "\n",
    "def delete_hashtag_tweets_pairs(twitter_data):\n",
    "    hashtag = r'[#＃]([\\w一-龠ぁ-んァ-ヴーａ-ｚ]+( |　))'\n",
    "    dialogue_tweets = []\n",
    "    for i in range(0,len(twitter_data),2):\n",
    "        if re.search(hashtag,twitter_data[i])==None and re.search(hashtag,twitter_data[i+1])==None:\n",
    "            dialogue_tweets.append(twitter_data[i])\n",
    "            dialogue_tweets.append(twitter_data[i+1])\n",
    "        else:\n",
    "            pass\n",
    "    return dialogue_tweets\n",
    "\n",
    "def delete_hashtag_eos(twitter_data):\n",
    "    hashtag = r'[#＃]([\\w一-龠ぁ-んァ-ヴーａ-ｚ]+$)'\n",
    "    dialogue_tweets = []\n",
    "    for ele in twitter_data:\n",
    "        ele_hashtag_deleted = re.sub(hashtag,'',ele)\n",
    "        dialogue_tweets.append(ele_hashtag_deleted)\n",
    "    return dialogue_tweets\n",
    "\n",
    "def delete_url(twitter_data):\n",
    "    url = r'(https?|ftp)(:\\/\\/[-_\\.!~*\\'()a-zA-Z0-9;\\/?:\\@&=\\+\\$,%#]+)'\n",
    "    dialogue_tweets = []\n",
    "    for ele in twitter_data:\n",
    "        ele_url_deleted = re.sub(url,'',ele)\n",
    "        dialogue_tweets.append(ele_url_deleted)\n",
    "    return dialogue_tweets\n",
    "\n",
    "def delete_username_sos(twitter_data):\n",
    "    username = r'@([a-zA-Z0-9_…]+ )'\n",
    "    dialogue_tweets = []\n",
    "    for ele in twitter_data:\n",
    "        ele_username_deleted = re.sub(username,'',ele)\n",
    "        dialogue_tweets.append(ele_username_deleted)\n",
    "    return dialogue_tweets\n",
    "\n",
    "def delete_inline_username(twitter_data):\n",
    "    username = r'@([a-zA-Z0-9_…]+)'\n",
    "    dialogue_tweets = []\n",
    "    for ele in twitter_data:\n",
    "        ele_username_deleted = re.sub(username,'',ele)\n",
    "        dialogue_tweets.append(ele_username_deleted)\n",
    "    return dialogue_tweets\n",
    "\n",
    "def delete_emoji(twitter_data):\n",
    "    dialogue_tweets = []\n",
    "    for ele in twitter_data:\n",
    "        ele_emoji_deleted = ''.join(char for char in ele if char not in emoji.UNICODE_EMOJI)\n",
    "        dialogue_tweets.append(ele_emoji_deleted)\n",
    "    return dialogue_tweets\n",
    "\n",
    "def delete_brackets(twitter_data):\n",
    "    brackets = []\n",
    "    brackets.append(r'【(.+)】')\n",
    "    brackets.append(r'《(.+)》')\n",
    "    brackets.append(r'\\((.+)\\)')\n",
    "    brackets.append(r'（(.+)）')\n",
    "    dialogue_tweets = []\n",
    "    for ele in twitter_data:\n",
    "        for bracket in brackets:\n",
    "            ele = re.sub(bracket,'',ele)\n",
    "        dialogue_tweets.append(ele)\n",
    "    return dialogue_tweets\n",
    "\n",
    "def delete_blank(twitter_data):\n",
    "    space = r'\\s+'\n",
    "    dialogue_tweets = []\n",
    "    for i in range(0,len(twitter_data),2):\n",
    "        if (twitter_data[i]!='' or re.match(space,twitter_data[i])!=None) and (twitter_data[i+1]!='' or re.match(space,twitter_data[i+1])):\n",
    "            dialogue_tweets.append(twitter_data[i])\n",
    "            dialogue_tweets.append(twitter_data[i+1])\n",
    "        else:\n",
    "            pass\n",
    "    return dialogue_tweets\n",
    "\n",
    "def delete_line_feed_code(twitter_data):\n",
    "    dialogue_tweets = []\n",
    "    for ele in twitter_data:\n",
    "        ele_code_deleted = re.sub('\\n','',ele)\n",
    "        dialogue_tweets.append(ele_code_deleted)\n",
    "    return dialogue_tweets\n",
    "\n",
    "def pre_process(twitter_data):\n",
    "    return delete_line_feed_code(delete_blank(delete_brackets(delete_emoji(delete_inline_username(delete_username_sos(delete_url(delete_hashtag_eos(delete_hashtag_tweets_pairs(delete_self_reply_pairs(twitter_pairs))))))))))"
   ]
  },
  {
   "cell_type": "markdown",
   "metadata": {},
   "source": [
    "## load data"
   ]
  },
  {
   "cell_type": "code",
   "execution_count": null,
   "metadata": {},
   "outputs": [],
   "source": [
    "#please change 'twitter_dialogue_small.txt' to your data\n",
    "raw_twitter_pairs = open('twitter_dialogue_small.txt','r',encoding='utf-8')\n",
    "twitter_pairs = raw_twitter_pairs.readlines()"
   ]
  },
  {
   "cell_type": "markdown",
   "metadata": {},
   "source": [
    "## pre-process data"
   ]
  },
  {
   "cell_type": "code",
   "execution_count": null,
   "metadata": {},
   "outputs": [],
   "source": [
    "twitter_pairs_p = pre_process(twitter_pairs)"
   ]
  },
  {
   "cell_type": "code",
   "execution_count": null,
   "metadata": {},
   "outputs": [],
   "source": [
    "num_rawdata = len(twitter_pairs)/2\n",
    "num_processed_data = len(twitter_pairs_p)/2\n",
    "yield_rate = num_processed_data/num_rawdata\n",
    "\n",
    "print('The Number of Raw Data:'+str(num_rawdata))\n",
    "print('The Number of Pre-processed Data:'+str(num_processed_data))\n",
    "print('Yield Rate:'+str(yield_rate))"
   ]
  },
  {
   "cell_type": "markdown",
   "metadata": {},
   "source": [
    "## check pre-processed data"
   ]
  },
  {
   "cell_type": "code",
   "execution_count": null,
   "metadata": {},
   "outputs": [],
   "source": [
    "for i in range(0,20,1):\n",
    "    print(twitter_pairs_p[i])"
   ]
  },
  {
   "cell_type": "markdown",
   "metadata": {},
   "source": [
    "## save as binary"
   ]
  },
  {
   "cell_type": "code",
   "execution_count": null,
   "metadata": {},
   "outputs": [],
   "source": [
    "save_file = open('twitter_preprocessed.pickle','wb') \n",
    "pickle.dump(twitter_pairs_p,save_file)\n",
    "save_file.close"
   ]
  },
  {
   "cell_type": "code",
   "execution_count": null,
   "metadata": {},
   "outputs": [],
   "source": []
  }
 ],
 "metadata": {
  "kernelspec": {
   "display_name": "py36",
   "language": "python",
   "name": "py36"
  },
  "language_info": {
   "codemirror_mode": {
    "name": "ipython",
    "version": 3
   },
   "file_extension": ".py",
   "mimetype": "text/x-python",
   "name": "python",
   "nbconvert_exporter": "python",
   "pygments_lexer": "ipython3",
   "version": "3.6.4"
  }
 },
 "nbformat": 4,
 "nbformat_minor": 2
}
